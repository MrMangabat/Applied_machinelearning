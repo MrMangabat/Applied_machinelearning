{
  "cells": [
    {
      "cell_type": "code",
      "execution_count": 1,
      "metadata": {
        "id": "jrMzQryBwbbL"
      },
      "outputs": [],
      "source": [
        "#Hello this the test file\n",
        "import tensorflow as tf\n",
        "import tensorflow_datasets as tfds\n",
        "from keras.models import Sequential\n",
        "from keras.layers import Dense, Dropout, Flatten, BatchNormalization, Activation, Rescaling,InputLayer, regularization\n",
        "from keras.layers import Conv2D, MaxPool2D, Input\n",
        "import matplotlib.pylab as plt\n",
        "from tensorflow.python.client import device_lib\n",
        "from keras.callbacks import CSVLogger\n",
        "from keras.utils import plot_model\n",
        "from keras.regularizers import l2 # ridge regression\n",
        "from keras.regularizers import l1 # lasso regression\n",
        "\n",
        "from keras.optimizers import Adam, SGD, RMSprop, Adamax\n",
        "from keras import mixed_precision\n",
        "import pandas as pd\n",
        "import numpy as np\n",
        "import os\n",
        "import sys\n",
        "\n",
        "file_dir = os.path.realpath(os.path.dirname('__file__'))"
      ]
    },
    {
      "cell_type": "code",
      "execution_count": 2,
      "metadata": {
        "colab": {
          "base_uri": "https://localhost:8080/"
        },
        "id": "OkRHCRp6wjNk",
        "outputId": "d0b1d0c8-71f3-4cf9-bf5b-28d60d9b919d"
      },
      "outputs": [
        {
          "name": "stdout",
          "output_type": "stream",
          "text": [
            "Num GPUs Available:  1\n"
          ]
        }
      ],
      "source": [
        "# from google.colab import drive\n",
        "# drive.mount('/content/drive')\n",
        "\n",
        "print(\"Num GPUs Available: \", len(tf.config.experimental.list_physical_devices('GPU')))\n",
        "# print(device_lib.list_local_devices())\n",
        "\n",
        "#GPU memory growth\n",
        "physical_devices = tf.config.list_physical_devices('GPU')\n",
        "tf.config.experimental.set_memory_growth(physical_devices[0], True)\n",
        "\n"
      ]
    },
    {
      "cell_type": "code",
      "execution_count": 3,
      "metadata": {
        "id": "J0PE2wk1w8OR"
      },
      "outputs": [
        {
          "name": "stdout",
          "output_type": "stream",
          "text": [
            "INFO:tensorflow:Mixed precision compatibility check (mixed_float16): OK\n",
            "Your GPU will likely run quickly with dtype policy mixed_float16 as it has compute capability of at least 7.0. Your GPU: NVIDIA GeForce RTX 3050 Laptop GPU, compute capability 8.6\n"
          ]
        }
      ],
      "source": [
        "policy = mixed_precision.Policy('mixed_float16')\n",
        "mixed_precision.set_global_policy(policy)\n",
        "\n",
        "def convert_sample(sample):\n",
        "    #alternativ use\n",
        "    #image, label = sample['image'], sample['label']\n",
        "    image = sample['image']\n",
        "    label = sample['label']\n",
        "    image = tf.image.convert_image_dtype(image, tf.float16)\n",
        "    label =tf.one_hot(label, 2, dtype=tf.bfloat16)\n",
        "    return image, label\n"
      ]
    },
    {
      "cell_type": "code",
      "execution_count": 4,
      "metadata": {
        "id": "XobNk5V6w97t"
      },
      "outputs": [],
      "source": [
        "ds1,ds2,ds3 = tfds.load('patch_camelyon',split=['train[:60%]','test[:10%]','validation[:10%]'],\n",
        "                        data_dir = file_dir,\n",
        "                        download=False,\n",
        "                        shuffle_files=True)"
      ]
    },
    {
      "cell_type": "code",
      "execution_count": 5,
      "metadata": {
        "id": "kfZEsyGyxC4g"
      },
      "outputs": [],
      "source": [
        "tf.keras.backend.clear_session()\n",
        "train_ds = ds1.map(convert_sample).batch(128)\n",
        "test_ds = ds2.map(convert_sample).batch(128)\n",
        "val_ds = ds3.map(convert_sample).batch(128)"
      ]
    },
    {
      "cell_type": "code",
      "execution_count": 6,
      "metadata": {
        "id": "Y5EXUoybxGwH"
      },
      "outputs": [],
      "source": [
        "base_model = tf.keras.applications.resnet50.ResNet50(\n",
        "    include_top=False,\n",
        "    weights = 'imagenet',\n",
        "    input_shape = (96,96,3)\n",
        ")"
      ]
    },
    {
      "cell_type": "code",
      "execution_count": 7,
      "metadata": {
        "id": "TTc76wr2xZEk"
      },
      "outputs": [],
      "source": [
        "base_model.trainable = True\n",
        "# for layer in base_model.layers[-3:]:\n",
        "#   layer.trainable = True\n"
      ]
    },
    {
      "cell_type": "code",
      "execution_count": 8,
      "metadata": {
        "id": "4NOLebApxifx"
      },
      "outputs": [],
      "source": [
        "data_augmentation = tf.keras.Sequential([\n",
        "    tf.keras.layers.RandomFlip('horizontal',input_shape=(96,96,3))\n",
        "])"
      ]
    },
    {
      "cell_type": "code",
      "execution_count": 9,
      "metadata": {
        "id": "d0b6JzcR4LzL"
      },
      "outputs": [],
      "source": [
        "tf.keras.backend.clear_session()"
      ]
    },
    {
      "cell_type": "code",
      "execution_count": 10,
      "metadata": {
        "id": "1kKtW1uQxuJG"
      },
      "outputs": [
        {
          "name": "stdout",
          "output_type": "stream",
          "text": [
            "Model: \"sequential\"\n",
            "_________________________________________________________________\n",
            " Layer (type)                Output Shape              Param #   \n",
            "=================================================================\n",
            " sequential (Sequential)     (None, 96, 96, 3)         0         \n",
            "                                                                 \n",
            " resnet50 (Functional)       (None, 3, 3, 2048)        23587712  \n",
            "                                                                 \n",
            " flatten (Flatten)           (None, 18432)             0         \n",
            "                                                                 \n",
            " dense (Dense)               (None, 128)               2359424   \n",
            "                                                                 \n",
            " dense_1 (Dense)             (None, 2)                 258       \n",
            "                                                                 \n",
            "=================================================================\n",
            "Total params: 25,947,394\n",
            "Trainable params: 25,894,274\n",
            "Non-trainable params: 53,120\n",
            "_________________________________________________________________\n"
          ]
        }
      ],
      "source": [
        "#Name transfer_model_ResNet50\n",
        "\n",
        "\n",
        "\n",
        "transfer_model_ResNet50 = tf.keras.models.Sequential ([\n",
        "    data_augmentation,\n",
        "    base_model,\n",
        "    Flatten(),\n",
        "    Dense(128,activation = 'relu'),\n",
        "    Dense(2,activation='softmax')\n",
        "])\n",
        "\n",
        "transfer_model_ResNet50.compile(loss='categorical_crossentropy',\n",
        "                          optimizer =Adam(learning_rate=0.001),\n",
        "                          metrics=['accuracy'])\n",
        "\n",
        "transfer_model_ResNet50.summary()"
      ]
    },
    {
      "cell_type": "code",
      "execution_count": 11,
      "metadata": {
        "colab": {
          "background_save": true,
          "base_uri": "https://localhost:8080/"
        },
        "id": "vxtH04gSy0cJ",
        "outputId": "ee46a3d1-e2a3-4545-94a6-903c040c3055"
      },
      "outputs": [
        {
          "name": "stdout",
          "output_type": "stream",
          "text": [
            "Epoch 1/30\n"
          ]
        },
        {
          "name": "stderr",
          "output_type": "stream",
          "text": [
            "C:\\Users\\mikae\\AppData\\Local\\Temp\\ipykernel_18268\\2077863972.py:3: UserWarning: `Model.fit_generator` is deprecated and will be removed in a future version. Please use `Model.fit`, which supports generators.\n",
            "  history_transfer_model =transfer_model_ResNet50.fit_generator(train_ds,epochs = 30,validation_data=val_ds)\n"
          ]
        },
        {
          "name": "stdout",
          "output_type": "stream",
          "text": [
            "410/410 [==============================] - 97s 209ms/step - loss: 0.3674 - accuracy: 0.8822 - val_loss: 11.8771 - val_accuracy: 0.5069\n",
            "Epoch 2/30\n",
            "410/410 [==============================] - 84s 206ms/step - loss: 0.1957 - accuracy: 0.9274 - val_loss: 4.1191 - val_accuracy: 0.5630\n",
            "Epoch 3/30\n",
            "410/410 [==============================] - 85s 206ms/step - loss: 0.1534 - accuracy: 0.9436 - val_loss: 0.8778 - val_accuracy: 0.7864\n",
            "Epoch 4/30\n",
            "410/410 [==============================] - 84s 206ms/step - loss: 0.1560 - accuracy: 0.9435 - val_loss: 0.4291 - val_accuracy: 0.8709\n",
            "Epoch 5/30\n",
            "410/410 [==============================] - 85s 207ms/step - loss: 0.1190 - accuracy: 0.9567 - val_loss: 0.9344 - val_accuracy: 0.8105\n",
            "Epoch 6/30\n",
            "410/410 [==============================] - 85s 206ms/step - loss: 0.1158 - accuracy: 0.9586 - val_loss: 0.6723 - val_accuracy: 0.7910\n",
            "Epoch 7/30\n",
            "410/410 [==============================] - 86s 209ms/step - loss: 0.1593 - accuracy: 0.9425 - val_loss: 1.2601 - val_accuracy: 0.7742\n",
            "Epoch 8/30\n",
            "410/410 [==============================] - 85s 207ms/step - loss: 0.1341 - accuracy: 0.9507 - val_loss: 0.7850 - val_accuracy: 0.8062\n",
            "Epoch 9/30\n",
            "410/410 [==============================] - 85s 206ms/step - loss: 0.0885 - accuracy: 0.9684 - val_loss: 2.7470 - val_accuracy: 0.6796\n",
            "Epoch 10/30\n",
            "410/410 [==============================] - 85s 206ms/step - loss: 0.0649 - accuracy: 0.9768 - val_loss: 0.5750 - val_accuracy: 0.8294\n",
            "Epoch 11/30\n",
            "410/410 [==============================] - 85s 206ms/step - loss: 0.0539 - accuracy: 0.9806 - val_loss: 0.7904 - val_accuracy: 0.8593\n",
            "Epoch 12/30\n",
            "410/410 [==============================] - 84s 206ms/step - loss: 0.0425 - accuracy: 0.9853 - val_loss: 0.7490 - val_accuracy: 0.8792\n",
            "Epoch 13/30\n",
            "410/410 [==============================] - 85s 206ms/step - loss: 0.0400 - accuracy: 0.9861 - val_loss: 1.9689 - val_accuracy: 0.7659\n",
            "Epoch 14/30\n",
            "410/410 [==============================] - 84s 205ms/step - loss: 0.0372 - accuracy: 0.9866 - val_loss: 0.7185 - val_accuracy: 0.8718\n",
            "Epoch 15/30\n",
            "410/410 [==============================] - 85s 206ms/step - loss: 0.0343 - accuracy: 0.9882 - val_loss: 4.0352 - val_accuracy: 0.6399\n",
            "Epoch 16/30\n",
            "410/410 [==============================] - 84s 206ms/step - loss: 0.0329 - accuracy: 0.9882 - val_loss: 0.8495 - val_accuracy: 0.8459\n",
            "Epoch 17/30\n",
            "410/410 [==============================] - 84s 205ms/step - loss: 0.0304 - accuracy: 0.9891 - val_loss: 1.0597 - val_accuracy: 0.8569\n",
            "Epoch 18/30\n",
            "410/410 [==============================] - 84s 205ms/step - loss: 0.0278 - accuracy: 0.9906 - val_loss: 1.3863 - val_accuracy: 0.7742\n",
            "Epoch 19/30\n",
            "410/410 [==============================] - 84s 206ms/step - loss: 0.0252 - accuracy: 0.9909 - val_loss: 2.1532 - val_accuracy: 0.8483\n",
            "Epoch 20/30\n",
            "410/410 [==============================] - 84s 206ms/step - loss: 0.0638 - accuracy: 0.9788 - val_loss: nan - val_accuracy: 0.7934\n",
            "Epoch 21/30\n",
            "410/410 [==============================] - 84s 205ms/step - loss: 0.0373 - accuracy: 0.9875 - val_loss: 1.1766 - val_accuracy: 0.8016\n",
            "Epoch 22/30\n",
            "410/410 [==============================] - 84s 206ms/step - loss: 0.0193 - accuracy: 0.9936 - val_loss: 0.9629 - val_accuracy: 0.8554\n",
            "Epoch 23/30\n",
            "410/410 [==============================] - 85s 207ms/step - loss: 0.0215 - accuracy: 0.9929 - val_loss: 1.0810 - val_accuracy: 0.8395\n",
            "Epoch 24/30\n",
            "410/410 [==============================] - 85s 207ms/step - loss: 0.0190 - accuracy: 0.9936 - val_loss: 1.4553 - val_accuracy: 0.7733\n",
            "Epoch 25/30\n",
            "410/410 [==============================] - 85s 206ms/step - loss: 0.0183 - accuracy: 0.9936 - val_loss: 1.7477 - val_accuracy: 0.7791\n",
            "Epoch 26/30\n",
            "410/410 [==============================] - 85s 206ms/step - loss: 0.0177 - accuracy: 0.9942 - val_loss: 1.9232 - val_accuracy: 0.6970\n",
            "Epoch 27/30\n",
            "410/410 [==============================] - 84s 205ms/step - loss: 0.0187 - accuracy: 0.9934 - val_loss: 2.5457 - val_accuracy: 0.7641\n",
            "Epoch 28/30\n",
            "410/410 [==============================] - 84s 205ms/step - loss: 0.0167 - accuracy: 0.9945 - val_loss: 1.4441 - val_accuracy: 0.8007\n",
            "Epoch 29/30\n",
            "410/410 [==============================] - 84s 205ms/step - loss: 0.0183 - accuracy: 0.9941 - val_loss: 1.2307 - val_accuracy: 0.8392\n",
            "Epoch 30/30\n",
            "410/410 [==============================] - 84s 205ms/step - loss: 0.0169 - accuracy: 0.9944 - val_loss: 1.4549 - val_accuracy: 0.8489\n"
          ]
        },
        {
          "name": "stderr",
          "output_type": "stream",
          "text": [
            "WARNING:absl:Found untraced functions such as _jit_compiled_convolution_op, _jit_compiled_convolution_op, _jit_compiled_convolution_op, _jit_compiled_convolution_op, _jit_compiled_convolution_op while saving (showing 5 of 53). These functions will not be directly callable after loading.\n"
          ]
        },
        {
          "name": "stdout",
          "output_type": "stream",
          "text": [
            "INFO:tensorflow:Assets written to: C:\\Users\\mikae\\Anvendt maskinelearing eksamen\\transfer_model_ResNet50\\assets\n"
          ]
        },
        {
          "name": "stderr",
          "output_type": "stream",
          "text": [
            "INFO:tensorflow:Assets written to: C:\\Users\\mikae\\Anvendt maskinelearing eksamen\\transfer_model_ResNet50\\assets\n"
          ]
        }
      ],
      "source": [
        "tf.keras.backend.clear_session()\n",
        "\n",
        "history_transfer_model =transfer_model_ResNet50.fit(train_ds,epochs = 30,validation_data=val_ds)\n",
        "\n",
        "#Create a dataframe with the results\n",
        "df_transfer_model = pd.DataFrame()\n",
        "\n",
        "tf.keras.models.save_model(transfer_model_ResNet50, file_dir + r'\\transfer_model_ResNet50', \n",
        "    save_format= 'tf', include_optimizer=True)\n",
        "\n",
        "#Save the history of the model\n",
        "df_transfer_model['transfer_ResNet50_acc'] = history_transfer_model.history['accuracy']\n",
        "df_transfer_model['transfer_ResNet50_val_acc'] = history_transfer_model.history['val_accuracy']\n",
        "df_transfer_model['transfer_ResNet50_loss'] = history_transfer_model.history['loss']\n",
        "df_transfer_model['transfer_ResNet50_val_loss'] = history_transfer_model.history['val_loss']\n",
        "\n",
        "df_transfer_model.to_csv(file_dir + r'\\transfer_model_ResNet50.csv')\n",
        "\n",
        "del transfer_model_ResNet50, history_transfer_model"
      ]
    },
    {
      "cell_type": "code",
      "execution_count": 6,
      "metadata": {},
      "outputs": [
        {
          "data": {
            "image/png": "[encoded data removed]",
            "text/plain": [
              "<Figure size 1000x500 with 2 Axes>"
            ]
          },
          "metadata": {},
          "output_type": "display_data"
        }
      ],
      "source": [
        "#load cvs file\n",
        "df_transfer_model = pd.read_csv(file_dir + r'\\transfer_model_ResNet50.csv')\n",
        "\n",
        "\n",
        "#Plot figure transfer model\n",
        "\n",
        "df_transfer_model.index = df_transfer_model.index + 1 \n",
        "\n",
        "plt.figure(figsize=(10,5))\n",
        "plt.subplot(1,2,2)\n",
        "plt.plot(df_transfer_model['transfer_ResNet50_acc'], label='Training Accuracy')\n",
        "plt.plot(df_transfer_model['transfer_ResNet50_val_acc'], label='Validation Accuracy')\n",
        "plt.legend(loc='lower right')\n",
        "plt.ylabel('Accuracy')\n",
        "plt.xlabel('epoch')\n",
        "plt.xticks(np.arange(1, 30, 3))\n",
        "plt.title('Accuracy transfer learning model')\n",
        "\n",
        "plt.subplot(1,2,1)\n",
        "plt.plot(df_transfer_model['transfer_ResNet50_loss'], label='Training Loss')\n",
        "plt.plot(df_transfer_model['transfer_ResNet50_val_loss'], label='Validation Loss')\n",
        "plt.legend(loc='upper right')\n",
        "plt.ylabel('Loss')\n",
        "plt.title('Loss transfer learning model')\n",
        "plt.xlabel('epoch')\n",
        "plt.xticks(np.arange(1, 30, 3))\n",
        "plt.show()"
      ]
    },
    {
      "cell_type": "code",
      "execution_count": 12,
      "metadata": {},
      "outputs": [
        {
          "name": "stdout",
          "output_type": "stream",
          "text": [
            "13/13 [==============================] - 6s 96ms/step - loss: 1.6854 - accuracy: 0.8081\n",
            "Transfer model test accuracy:  80.8% \n",
            "13/13 [==============================] - 1s 82ms/step - loss: 1.4547 - accuracy: 0.8489\n",
            "Transfer model val accuracy:  84.8947%\n"
          ]
        }
      ],
      "source": [
        "#Load transfer model and evaluate\n",
        "transfer_model_ResNet50 = tf.keras.models.load_model(file_dir + r'\\transfer_model_ResNet50')\n",
        "print(f'Transfer model test accuracy:  {round(transfer_model_ResNet50.evaluate(test_ds)[1]*100, 2)}% ')\n",
        "print(f'Transfer model val accuracy:  {round(transfer_model_ResNet50.evaluate(val_ds)[1]*100, 2)}%')\n",
        "\n"
      ]
    },
    {
      "cell_type": "code",
      "execution_count": 11,
      "metadata": {},
      "outputs": [
        {
          "name": "stdout",
          "output_type": "stream",
          "text": [
            "Epoch 1/70\n",
            "410/410 [==============================] - 101s 214ms/step - loss: 0.1741 - accuracy: 0.9382 - val_loss: 0.2609 - val_accuracy: 0.9008\n",
            "Epoch 2/70\n",
            "410/410 [==============================] - 86s 209ms/step - loss: 0.0896 - accuracy: 0.9669 - val_loss: 0.3877 - val_accuracy: 0.8770\n",
            "Epoch 3/70\n",
            "410/410 [==============================] - 86s 211ms/step - loss: 0.0553 - accuracy: 0.9800 - val_loss: 0.7008 - val_accuracy: 0.8569\n",
            "Epoch 4/70\n",
            "410/410 [==============================] - 87s 211ms/step - loss: 0.0426 - accuracy: 0.9842 - val_loss: 1.0545 - val_accuracy: 0.8087\n",
            "Epoch 5/70\n",
            "410/410 [==============================] - 85s 208ms/step - loss: 0.0331 - accuracy: 0.9885 - val_loss: 0.6570 - val_accuracy: 0.8731\n",
            "Epoch 6/70\n",
            "410/410 [==============================] - 84s 206ms/step - loss: 0.0312 - accuracy: 0.9887 - val_loss: 1.1183 - val_accuracy: 0.8404\n",
            "Epoch 7/70\n",
            "410/410 [==============================] - 84s 206ms/step - loss: 0.0240 - accuracy: 0.9917 - val_loss: 0.9216 - val_accuracy: 0.8404\n",
            "Epoch 8/70\n",
            "410/410 [==============================] - 85s 206ms/step - loss: 0.0227 - accuracy: 0.9923 - val_loss: 1.4517 - val_accuracy: 0.8218\n",
            "Epoch 9/70\n",
            "410/410 [==============================] - 85s 207ms/step - loss: 0.0239 - accuracy: 0.9926 - val_loss: 0.5992 - val_accuracy: 0.8758\n",
            "Epoch 10/70\n",
            "410/410 [==============================] - 84s 206ms/step - loss: 0.0166 - accuracy: 0.9940 - val_loss: 4.1237 - val_accuracy: 0.6726\n",
            "Epoch 11/70\n",
            "410/410 [==============================] - 85s 206ms/step - loss: 0.0176 - accuracy: 0.9936 - val_loss: 1.3172 - val_accuracy: 0.8084\n",
            "Epoch 12/70\n",
            "410/410 [==============================] - 84s 206ms/step - loss: 0.0171 - accuracy: 0.9941 - val_loss: 0.7284 - val_accuracy: 0.8547\n",
            "Epoch 13/70\n",
            "410/410 [==============================] - 84s 205ms/step - loss: 0.0147 - accuracy: 0.9952 - val_loss: 1.2208 - val_accuracy: 0.8178\n",
            "Epoch 14/70\n",
            "410/410 [==============================] - 84s 205ms/step - loss: 0.0131 - accuracy: 0.9955 - val_loss: 1.0218 - val_accuracy: 0.8544\n",
            "Epoch 15/70\n",
            "410/410 [==============================] - 85s 208ms/step - loss: 0.0170 - accuracy: 0.9947 - val_loss: 0.8842 - val_accuracy: 0.8416\n",
            "Epoch 16/70\n",
            "410/410 [==============================] - 84s 205ms/step - loss: 0.0143 - accuracy: 0.9956 - val_loss: 0.8934 - val_accuracy: 0.8602\n",
            "Epoch 17/70\n",
            "410/410 [==============================] - 85s 207ms/step - loss: 0.0132 - accuracy: 0.9956 - val_loss: 3.0012 - val_accuracy: 0.6558\n",
            "Epoch 18/70\n",
            "410/410 [==============================] - 85s 208ms/step - loss: 0.0141 - accuracy: 0.9951 - val_loss: 0.8718 - val_accuracy: 0.8734\n",
            "Epoch 19/70\n",
            "410/410 [==============================] - 84s 206ms/step - loss: 0.0131 - accuracy: 0.9955 - val_loss: 1.3746 - val_accuracy: 0.8081\n",
            "Epoch 20/70\n",
            "410/410 [==============================] - 84s 205ms/step - loss: 0.0132 - accuracy: 0.9952 - val_loss: 1.6871 - val_accuracy: 0.8450\n",
            "Epoch 21/70\n",
            "410/410 [==============================] - 85s 206ms/step - loss: 0.0121 - accuracy: 0.9963 - val_loss: 0.6502 - val_accuracy: 0.8813\n",
            "Epoch 22/70\n",
            "410/410 [==============================] - 84s 206ms/step - loss: 0.0115 - accuracy: 0.9962 - val_loss: 1.7404 - val_accuracy: 0.7666\n",
            "Epoch 23/70\n",
            "410/410 [==============================] - 84s 206ms/step - loss: 0.0116 - accuracy: 0.9961 - val_loss: 1.2819 - val_accuracy: 0.8203\n",
            "Epoch 24/70\n",
            "410/410 [==============================] - 85s 207ms/step - loss: 0.0100 - accuracy: 0.9965 - val_loss: 0.8737 - val_accuracy: 0.8517\n",
            "Epoch 25/70\n",
            "410/410 [==============================] - 84s 206ms/step - loss: 0.0115 - accuracy: 0.9960 - val_loss: 2.5135 - val_accuracy: 0.8407\n",
            "Epoch 26/70\n",
            "410/410 [==============================] - 84s 205ms/step - loss: 0.0127 - accuracy: 0.9955 - val_loss: 1.8971 - val_accuracy: 0.8416\n",
            "Epoch 27/70\n",
            "410/410 [==============================] - 84s 205ms/step - loss: 0.0103 - accuracy: 0.9969 - val_loss: 0.9401 - val_accuracy: 0.8502\n",
            "Epoch 28/70\n",
            "410/410 [==============================] - 85s 206ms/step - loss: 0.0089 - accuracy: 0.9971 - val_loss: 2.5713 - val_accuracy: 0.8599\n",
            "Epoch 29/70\n",
            "410/410 [==============================] - 85s 206ms/step - loss: 0.0112 - accuracy: 0.9961 - val_loss: 2.5355 - val_accuracy: 0.7684\n",
            "Epoch 30/70\n",
            "410/410 [==============================] - 84s 205ms/step - loss: 0.0089 - accuracy: 0.9971 - val_loss: 0.7649 - val_accuracy: 0.8700\n",
            "Epoch 31/70\n",
            "410/410 [==============================] - 84s 205ms/step - loss: 0.0141 - accuracy: 0.9957 - val_loss: 4.1198 - val_accuracy: 0.5935\n",
            "Epoch 32/70\n",
            "410/410 [==============================] - 84s 206ms/step - loss: 0.0088 - accuracy: 0.9971 - val_loss: 1.1961 - val_accuracy: 0.8483\n",
            "Epoch 33/70\n",
            "410/410 [==============================] - 85s 206ms/step - loss: 0.0083 - accuracy: 0.9971 - val_loss: 1.2502 - val_accuracy: 0.8306\n",
            "Epoch 34/70\n",
            "410/410 [==============================] - 84s 205ms/step - loss: 0.0082 - accuracy: 0.9974 - val_loss: 1.1932 - val_accuracy: 0.8398\n",
            "Epoch 35/70\n",
            "410/410 [==============================] - 84s 206ms/step - loss: 0.0076 - accuracy: 0.9975 - val_loss: 1.0935 - val_accuracy: 0.8251\n",
            "Epoch 36/70\n",
            "410/410 [==============================] - 85s 207ms/step - loss: 0.0089 - accuracy: 0.9972 - val_loss: 1.2334 - val_accuracy: 0.8355\n",
            "Epoch 37/70\n",
            "410/410 [==============================] - 85s 207ms/step - loss: 0.0079 - accuracy: 0.9973 - val_loss: 1.3829 - val_accuracy: 0.8444\n",
            "Epoch 38/70\n",
            "410/410 [==============================] - 85s 207ms/step - loss: 0.0097 - accuracy: 0.9966 - val_loss: 0.6966 - val_accuracy: 0.8813\n",
            "Epoch 39/70\n",
            "410/410 [==============================] - 84s 205ms/step - loss: 0.0085 - accuracy: 0.9973 - val_loss: 1.3862 - val_accuracy: 0.7699\n",
            "Epoch 40/70\n",
            "410/410 [==============================] - 87s 211ms/step - loss: 0.0085 - accuracy: 0.9973 - val_loss: 1.2481 - val_accuracy: 0.8377\n",
            "Epoch 41/70\n",
            "410/410 [==============================] - 88s 215ms/step - loss: 0.0077 - accuracy: 0.9974 - val_loss: 1.0871 - val_accuracy: 0.8203\n",
            "Epoch 42/70\n",
            "410/410 [==============================] - 88s 215ms/step - loss: 0.0059 - accuracy: 0.9981 - val_loss: 1.2001 - val_accuracy: 0.8477\n",
            "Epoch 43/70\n",
            "410/410 [==============================] - 89s 216ms/step - loss: 0.0067 - accuracy: 0.9979 - val_loss: 1.4516 - val_accuracy: 0.8132\n",
            "Epoch 44/70\n",
            "410/410 [==============================] - 89s 217ms/step - loss: 0.0074 - accuracy: 0.9976 - val_loss: 1.4118 - val_accuracy: 0.8529\n",
            "Epoch 45/70\n",
            "410/410 [==============================] - 89s 216ms/step - loss: 0.0088 - accuracy: 0.9969 - val_loss: 0.9708 - val_accuracy: 0.8630\n",
            "Epoch 46/70\n",
            "410/410 [==============================] - 88s 215ms/step - loss: 0.0082 - accuracy: 0.9974 - val_loss: 2.0326 - val_accuracy: 0.7611\n",
            "Epoch 47/70\n",
            "410/410 [==============================] - 89s 216ms/step - loss: 0.0085 - accuracy: 0.9973 - val_loss: 1.3922 - val_accuracy: 0.8157\n",
            "Epoch 48/70\n",
            "410/410 [==============================] - 88s 215ms/step - loss: 0.0128 - accuracy: 0.9960 - val_loss: 2.0367 - val_accuracy: 0.7653\n",
            "Epoch 49/70\n",
            "410/410 [==============================] - 88s 214ms/step - loss: 0.0082 - accuracy: 0.9978 - val_loss: nan - val_accuracy: 0.8206\n",
            "Epoch 50/70\n",
            "410/410 [==============================] - 88s 216ms/step - loss: 0.0140 - accuracy: 0.9958 - val_loss: 2.3589 - val_accuracy: 0.7418\n",
            "Epoch 51/70\n",
            "410/410 [==============================] - 89s 216ms/step - loss: 0.0048 - accuracy: 0.9985 - val_loss: 2.6251 - val_accuracy: 0.8105\n",
            "Epoch 52/70\n",
            "410/410 [==============================] - 90s 218ms/step - loss: 0.0694 - accuracy: 0.9977 - val_loss: 0.9596 - val_accuracy: 0.8605\n",
            "Epoch 53/70\n",
            "410/410 [==============================] - 89s 218ms/step - loss: 0.0061 - accuracy: 0.9980 - val_loss: 0.9814 - val_accuracy: 0.8673\n",
            "Epoch 54/70\n",
            "410/410 [==============================] - 89s 218ms/step - loss: 0.0054 - accuracy: 0.9985 - val_loss: 1.1566 - val_accuracy: 0.8477\n",
            "Epoch 55/70\n",
            "410/410 [==============================] - 90s 219ms/step - loss: 0.0046 - accuracy: 0.9988 - val_loss: 5.4563 - val_accuracy: 0.7052\n",
            "Epoch 56/70\n",
            "410/410 [==============================] - 90s 219ms/step - loss: 0.0057 - accuracy: 0.9981 - val_loss: 0.9372 - val_accuracy: 0.8511\n",
            "Epoch 57/70\n",
            "410/410 [==============================] - 90s 219ms/step - loss: 0.0059 - accuracy: 0.9982 - val_loss: 0.8707 - val_accuracy: 0.8752\n",
            "Epoch 58/70\n",
            "410/410 [==============================] - 89s 217ms/step - loss: 0.0093 - accuracy: 0.9972 - val_loss: 1.5362 - val_accuracy: 0.8197\n",
            "Epoch 59/70\n",
            "410/410 [==============================] - 89s 217ms/step - loss: 0.0077 - accuracy: 0.9976 - val_loss: 1.8305 - val_accuracy: 0.7806\n",
            "Epoch 60/70\n",
            "410/410 [==============================] - 89s 218ms/step - loss: 0.0048 - accuracy: 0.9984 - val_loss: 1.1434 - val_accuracy: 0.8645\n",
            "Epoch 61/70\n",
            "410/410 [==============================] - 89s 217ms/step - loss: 0.0054 - accuracy: 0.9983 - val_loss: 3.1932 - val_accuracy: 0.7190\n",
            "Epoch 62/70\n",
            "410/410 [==============================] - 90s 218ms/step - loss: 0.0051 - accuracy: 0.9982 - val_loss: 3.5769 - val_accuracy: 0.7339\n",
            "Epoch 63/70\n",
            "410/410 [==============================] - 89s 218ms/step - loss: 0.0059 - accuracy: 0.9982 - val_loss: 0.7352 - val_accuracy: 0.8758\n",
            "Epoch 64/70\n",
            "410/410 [==============================] - 89s 217ms/step - loss: 0.0073 - accuracy: 0.9978 - val_loss: 1.9809 - val_accuracy: 0.7629\n",
            "Epoch 65/70\n",
            "410/410 [==============================] - 89s 218ms/step - loss: 0.0069 - accuracy: 0.9980 - val_loss: 0.7275 - val_accuracy: 0.8767\n",
            "Epoch 66/70\n",
            "410/410 [==============================] - 88s 216ms/step - loss: 0.0041 - accuracy: 0.9986 - val_loss: 1.2020 - val_accuracy: 0.8526\n",
            "Epoch 67/70\n",
            "410/410 [==============================] - 89s 218ms/step - loss: 0.0066 - accuracy: 0.9979 - val_loss: 0.9937 - val_accuracy: 0.8544\n",
            "Epoch 68/70\n",
            "410/410 [==============================] - 89s 217ms/step - loss: 0.0069 - accuracy: 0.9980 - val_loss: nan - val_accuracy: 0.7190\n",
            "Epoch 69/70\n",
            "410/410 [==============================] - 89s 218ms/step - loss: 0.0059 - accuracy: 0.9981 - val_loss: 0.8997 - val_accuracy: 0.8721\n",
            "Epoch 70/70\n",
            "410/410 [==============================] - 89s 218ms/step - loss: 0.0040 - accuracy: 0.9986 - val_loss: 1.1814 - val_accuracy: 0.8477\n"
          ]
        },
        {
          "name": "stderr",
          "output_type": "stream",
          "text": [
            "WARNING:absl:Found untraced functions such as _jit_compiled_convolution_op, _jit_compiled_convolution_op, _jit_compiled_convolution_op, _jit_compiled_convolution_op, _jit_compiled_convolution_op while saving (showing 5 of 53). These functions will not be directly callable after loading.\n"
          ]
        },
        {
          "name": "stdout",
          "output_type": "stream",
          "text": [
            "INFO:tensorflow:Assets written to: C:\\Users\\mikae\\Anvendt maskinelearing eksamen\\transfer_model_ResNet50\\assets\n"
          ]
        },
        {
          "name": "stderr",
          "output_type": "stream",
          "text": [
            "INFO:tensorflow:Assets written to: C:\\Users\\mikae\\Anvendt maskinelearing eksamen\\transfer_model_ResNet50\\assets\n"
          ]
        }
      ],
      "source": [
        "#Further training of the transfer model with the same data\n",
        "tf.keras.backend.clear_session()\n",
        "transfer_model_ResNet50 = tf.keras.models.load_model(file_dir + r'\\transfer_model_ResNet50')\n",
        "history_transfer_model =transfer_model_ResNet50.fit(train_ds,epochs = 70,validation_data=val_ds)\n",
        "\n",
        "tf.keras.models.save_model(transfer_model_ResNet50, file_dir + r'\\transfer_model_ResNet50',\n",
        "    save_format= 'tf', include_optimizer=True)\n",
        "\n",
        "#Save the history of the model\n",
        "df_transfer_model_further_training = pd.DataFrame()\n",
        "df_transfer_model_further_training['transfer_ResNet50_acc'] = history_transfer_model.history['accuracy']\n",
        "df_transfer_model_further_training['transfer_ResNet50_val_acc'] = history_transfer_model.history['val_accuracy']\n",
        "df_transfer_model_further_training['transfer_ResNet50_loss'] = history_transfer_model.history['loss']\n",
        "df_transfer_model_further_training['transfer_ResNet50_val_loss'] = history_transfer_model.history['val_loss']\n",
        "\n",
        "df_transfer_model_further_training.to_csv(file_dir + r'\\transfer_model_ResNet50_further_training.csv')"
      ]
    },
    {
      "cell_type": "code",
      "execution_count": 13,
      "metadata": {},
      "outputs": [
        {
          "name": "stdout",
          "output_type": "stream",
          "text": [
            "26/26 [==============================] - 2s 47ms/step - loss: 1.9641 - accuracy: 0.8016\n",
            "Transfer model test accuracy:  80.16% \n",
            "26/26 [==============================] - 1s 46ms/step - loss: 1.1814 - accuracy: 0.8477\n",
            "Transfer model val accuracy:  84.77%\n"
          ]
        }
      ],
      "source": [
        "\n",
        "\n",
        "print(f'Transfer model test accuracy:  {round(transfer_model_ResNet50.evaluate(test_ds)[1]*100, 2)}% ')\n",
        "print(f'Transfer model val accuracy:  {round(transfer_model_ResNet50.evaluate(val_ds)[1]*100, 2)}%')"
      ]
    },
    {
      "cell_type": "code",
      "execution_count": 6,
      "metadata": {},
      "outputs": [
        {
          "name": "stdout",
          "output_type": "stream",
          "text": [
            "Epoch 1/20\n",
            "1229/1229 [==============================] - 275s 213ms/step - loss: 0.0963 - accuracy: 0.9701 - val_loss: 1.2265 - val_accuracy: 0.7305\n",
            "Epoch 2/20\n",
            "1229/1229 [==============================] - 261s 212ms/step - loss: 0.0832 - accuracy: 0.9783 - val_loss: 0.5453 - val_accuracy: 0.8303\n",
            "Epoch 3/20\n",
            "1229/1229 [==============================] - 257s 209ms/step - loss: 0.0436 - accuracy: 0.9906 - val_loss: 0.8836 - val_accuracy: 0.8123\n",
            "Epoch 4/20\n",
            "1229/1229 [==============================] - 257s 209ms/step - loss: 0.0353 - accuracy: 0.9873 - val_loss: nan - val_accuracy: 0.8544\n",
            "Epoch 5/20\n",
            "1229/1229 [==============================] - 257s 209ms/step - loss: 0.0220 - accuracy: 0.9923 - val_loss: nan - val_accuracy: 0.8084\n",
            "Epoch 6/20\n",
            "1229/1229 [==============================] - 257s 209ms/step - loss: 0.0345 - accuracy: 0.9954 - val_loss: nan - val_accuracy: 0.8230\n",
            "Epoch 7/20\n",
            "1229/1229 [==============================] - 258s 210ms/step - loss: 0.0351 - accuracy: 0.9952 - val_loss: nan - val_accuracy: 0.8300\n",
            "Epoch 8/20\n",
            "1229/1229 [==============================] - 259s 211ms/step - loss: 0.0193 - accuracy: 0.9952 - val_loss: nan - val_accuracy: 0.8529\n",
            "Epoch 9/20\n",
            "1229/1229 [==============================] - 259s 210ms/step - loss: 0.1785 - accuracy: 0.9469 - val_loss: 0.4829 - val_accuracy: 0.8551\n",
            "Epoch 10/20\n",
            "1229/1229 [==============================] - 257s 209ms/step - loss: 0.0614 - accuracy: 0.9792 - val_loss: 0.8463 - val_accuracy: 0.7946\n",
            "Epoch 11/20\n",
            "1229/1229 [==============================] - 259s 210ms/step - loss: 0.0474 - accuracy: 0.9831 - val_loss: 0.8812 - val_accuracy: 0.8023\n",
            "Epoch 12/20\n",
            "1229/1229 [==============================] - 258s 209ms/step - loss: 0.0297 - accuracy: 0.9899 - val_loss: 0.5554 - val_accuracy: 0.8706\n",
            "Epoch 13/20\n",
            "1229/1229 [==============================] - 251s 204ms/step - loss: 0.0206 - accuracy: 0.9918 - val_loss: nan - val_accuracy: 0.7269\n",
            "Epoch 14/20\n",
            "1229/1229 [==============================] - 244s 198ms/step - loss: 0.0471 - accuracy: 0.9827 - val_loss: nan - val_accuracy: 0.8370\n",
            "Epoch 15/20\n",
            "1229/1229 [==============================] - 244s 198ms/step - loss: 0.0373 - accuracy: 0.9856 - val_loss: 1.0074 - val_accuracy: 0.8102\n",
            "Epoch 16/20\n",
            "1229/1229 [==============================] - 243s 198ms/step - loss: 0.0194 - accuracy: 0.9929 - val_loss: 3.6936 - val_accuracy: 0.6826\n",
            "Epoch 17/20\n",
            "1229/1229 [==============================] - 243s 198ms/step - loss: 0.0274 - accuracy: 0.9903 - val_loss: 0.9798 - val_accuracy: 0.8105\n",
            "Epoch 18/20\n",
            "1229/1229 [==============================] - 244s 198ms/step - loss: 0.0212 - accuracy: 0.9921 - val_loss: 1.0064 - val_accuracy: 0.8450\n",
            "Epoch 19/20\n",
            "1229/1229 [==============================] - 245s 199ms/step - loss: 0.0193 - accuracy: 0.9937 - val_loss: 1.2384 - val_accuracy: 0.8377\n",
            "Epoch 20/20\n",
            "1229/1229 [==============================] - 244s 199ms/step - loss: 0.0090 - accuracy: 0.9970 - val_loss: 1.0317 - val_accuracy: 0.8740\n"
          ]
        },
        {
          "name": "stderr",
          "output_type": "stream",
          "text": [
            "WARNING:absl:Found untraced functions such as _jit_compiled_convolution_op, _jit_compiled_convolution_op, _jit_compiled_convolution_op, _jit_compiled_convolution_op, _jit_compiled_convolution_op while saving (showing 5 of 53). These functions will not be directly callable after loading.\n"
          ]
        },
        {
          "name": "stdout",
          "output_type": "stream",
          "text": [
            "INFO:tensorflow:Assets written to: C:\\Users\\mikae\\Anvendt maskinelearing eksamen\\transfer_model_ResNet50_data_60\\assets\n"
          ]
        },
        {
          "name": "stderr",
          "output_type": "stream",
          "text": [
            "INFO:tensorflow:Assets written to: C:\\Users\\mikae\\Anvendt maskinelearing eksamen\\transfer_model_ResNet50_data_60\\assets\n"
          ]
        }
      ],
      "source": [
        "tf.keras.backend.clear_session()\n",
        "transfer_model_ResNet50 = tf.keras.models.load_model(file_dir + r'\\transfer_model_ResNet50')\n",
        "history_transfer_model =transfer_model_ResNet50.fit(train_ds,epochs = 20,validation_data=val_ds)\n",
        "\n",
        "tf.keras.models.save_model(transfer_model_ResNet50, file_dir + r'\\transfer_model_ResNet50_data_60',\n",
        "    save_format= 'tf', include_optimizer=True)"
      ]
    },
    {
      "cell_type": "code",
      "execution_count": 7,
      "metadata": {},
      "outputs": [
        {
          "name": "stdout",
          "output_type": "stream",
          "text": [
            "26/26 [==============================] - 2s 46ms/step - loss: 1.2622 - accuracy: 0.8212\n",
            "Transfer model test accuracy:  82.12% \n",
            "26/26 [==============================] - 1s 45ms/step - loss: 1.0317 - accuracy: 0.8740\n",
            "Transfer model val accuracy:  87.4%\n"
          ]
        }
      ],
      "source": [
        "print(f'Transfer model test accuracy:  {round(transfer_model_ResNet50.evaluate(test_ds)[1]*100, 2)}% ')\n",
        "print(f'Transfer model val accuracy:  {round(transfer_model_ResNet50.evaluate(val_ds)[1]*100, 2)}%')"
      ]
    }
  ],
  "metadata": {
    "accelerator": "GPU",
    "colab": {
      "provenance": []
    },
    "gpuClass": "standard",
    "kernelspec": {
      "display_name": "GPUtf",
      "language": "python",
      "name": "python3"
    },
    "language_info": {
      "codemirror_mode": {
        "name": "ipython",
        "version": 3
      },
      "file_extension": ".py",
      "mimetype": "text/x-python",
      "name": "python",
      "nbconvert_exporter": "python",
      "pygments_lexer": "ipython3",
      "version": "3.9.15 (main, Nov 24 2022, 14:39:17) [MSC v.1916 64 bit (AMD64)]"
    },
    "vscode": {
      "interpreter": {
        "hash": "a2eb3191a808ab6cf31ec21221304da74b78dfa52e59bba8cf84243581703f98"
      }
    }
  },
  "nbformat": 4,
  "nbformat_minor": 0
}
