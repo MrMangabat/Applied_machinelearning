{
 "cells": [
  {
   "cell_type": "code",
   "execution_count": 1,
   "metadata": {},
   "outputs": [
    {
     "data": {
      "text/plain": [
       "'hola'"
      ]
     },
     "execution_count": 1,
     "metadata": {},
     "output_type": "execute_result"
    }
   ],
   "source": [
    "#test\n",

   ]
  }
 ],
 "metadata": {
  "kernelspec": {

   "language": "python",
   "name": "python3"
  },
  "language_info": {

  },
  "orig_nbformat": 4,
  "vscode": {
   "interpreter": {

   }
  }
 },
 "nbformat": 4,
 "nbformat_minor": 2
}
